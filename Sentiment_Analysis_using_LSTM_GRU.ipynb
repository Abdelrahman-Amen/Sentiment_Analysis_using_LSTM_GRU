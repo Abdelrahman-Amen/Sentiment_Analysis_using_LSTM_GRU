{
  "metadata": {
    "kernelspec": {
      "language": "python",
      "display_name": "Python 3",
      "name": "python3"
    },
    "language_info": {
      "name": "python",
      "version": "3.10.12",
      "mimetype": "text/x-python",
      "codemirror_mode": {
        "name": "ipython",
        "version": 3
      },
      "pygments_lexer": "ipython3",
      "nbconvert_exporter": "python",
      "file_extension": ".py"
    },
    "kaggle": {
      "accelerator": "gpu",
      "dataSources": [
        {
          "sourceId": 8783936,
          "sourceType": "datasetVersion",
          "datasetId": 5280417
        }
      ],
      "dockerImageVersionId": 30823,
      "isInternetEnabled": true,
      "language": "python",
      "sourceType": "notebook",
      "isGpuEnabled": true
    },
    "colab": {
      "provenance": []
    }
  },
  "nbformat_minor": 0,
  "nbformat": 4,
  "cells": [
    {
      "cell_type": "markdown",
      "source": [
        "# Import Libraries"
      ],
      "metadata": {
        "id": "R6everKUCnbQ"
      }
    },
    {
      "cell_type": "code",
      "source": [
        "import os\n",
        "import pandas as pd\n",
        "import numpy as np\n",
        "import matplotlib.pyplot as plt\n",
        "import re\n",
        "import string\n",
        "import zipfile\n",
        "from bs4 import BeautifulSoup\n",
        "from nltk.corpus import stopwords\n",
        "from nltk.tokenize import word_tokenize\n",
        "from nltk.stem import WordNetLemmatizer\n",
        "from tensorflow.keras.preprocessing.text import Tokenizer\n",
        "from tensorflow.keras.preprocessing.sequence import pad_sequences\n",
        "from tensorflow.keras.models import Sequential\n",
        "from tensorflow.keras.layers import Embedding, LSTM, GRU, Dense, Bidirectional, Dropout,SpatialDropout1D,BatchNormalization\n",
        "from sklearn.metrics import classification_report, accuracy_score\n",
        "from sklearn.model_selection import train_test_split\n",
        "import nltk\n",
        "import warnings\n",
        "warnings.filterwarnings('ignore')"
      ],
      "metadata": {
        "trusted": true,
        "execution": {
          "iopub.status.busy": "2025-01-04T15:06:02.675748Z",
          "iopub.execute_input": "2025-01-04T15:06:02.675966Z",
          "iopub.status.idle": "2025-01-04T15:06:11.211541Z",
          "shell.execute_reply.started": "2025-01-04T15:06:02.675948Z",
          "shell.execute_reply": "2025-01-04T15:06:11.210876Z"
        },
        "id": "7-ss26S5Cic0"
      },
      "outputs": [],
      "execution_count": null
    },
    {
      "cell_type": "code",
      "source": [
        "# Download NLTK resources\n",
        "nltk.download('stopwords')\n",
        "nltk.download('punkt')\n",
        "nltk.download('wordnet')"
      ],
      "metadata": {
        "trusted": true,
        "execution": {
          "iopub.status.busy": "2025-01-04T15:06:11.212624Z",
          "iopub.execute_input": "2025-01-04T15:06:11.213259Z",
          "iopub.status.idle": "2025-01-04T15:06:11.402936Z",
          "shell.execute_reply.started": "2025-01-04T15:06:11.213226Z",
          "shell.execute_reply": "2025-01-04T15:06:11.402259Z"
        },
        "id": "KE7ioUUiCidA",
        "outputId": "327c8873-301a-421a-c8d0-3398907d6f36"
      },
      "outputs": [
        {
          "name": "stdout",
          "text": "[nltk_data] Downloading package stopwords to /usr/share/nltk_data...\n[nltk_data]   Package stopwords is already up-to-date!\n[nltk_data] Downloading package punkt to /usr/share/nltk_data...\n[nltk_data]   Package punkt is already up-to-date!\n[nltk_data] Downloading package wordnet to /usr/share/nltk_data...\n[nltk_data]   Package wordnet is already up-to-date!\n",
          "output_type": "stream"
        },
        {
          "execution_count": 2,
          "output_type": "execute_result",
          "data": {
            "text/plain": "True"
          },
          "metadata": {}
        }
      ],
      "execution_count": null
    },
    {
      "cell_type": "code",
      "source": [
        "# Check if WordNet is available, if not, download it and extract\n",
        "try:\n",
        "    nltk.data.find('corpora/wordnet.zip')\n",
        "except LookupError:\n",
        "    nltk.download('wordnet', download_dir='/kaggle/working/')\n",
        "    with zipfile.ZipFile('/kaggle/working/corpora/wordnet.zip', 'r') as zip_ref:\n",
        "        zip_ref.extractall('/kaggle/working/corpora')\n",
        "    nltk.data.path.append('/kaggle/working/')\n",
        "\n",
        "# Now you can import wordnet from nltk.corpus\n",
        "from nltk.corpus import wordnet"
      ],
      "metadata": {
        "trusted": true,
        "execution": {
          "iopub.status.busy": "2025-01-04T15:06:11.404226Z",
          "iopub.execute_input": "2025-01-04T15:06:11.404436Z",
          "iopub.status.idle": "2025-01-04T15:06:11.722039Z",
          "shell.execute_reply.started": "2025-01-04T15:06:11.404419Z",
          "shell.execute_reply": "2025-01-04T15:06:11.721122Z"
        },
        "id": "YhDjPxcZCidN",
        "outputId": "d57896c4-69ee-4742-a052-ff8c9c035535"
      },
      "outputs": [
        {
          "name": "stdout",
          "text": "[nltk_data] Downloading package wordnet to /kaggle/working/...\n",
          "output_type": "stream"
        }
      ],
      "execution_count": null
    },
    {
      "cell_type": "markdown",
      "source": [
        "# Text Preprocessing"
      ],
      "metadata": {
        "id": "AU2c48uOCthn"
      }
    },
    {
      "cell_type": "code",
      "source": [
        "# Define preprocessing function\n",
        "def preprocess_text(text):\n",
        "    # Remove HTML tags\n",
        "    text = BeautifulSoup(text, \"html.parser\").get_text()\n",
        "    # Convert text to lowercase\n",
        "    text = text.lower()\n",
        "    # Remove punctuation\n",
        "    text = re.sub(f'[{re.escape(string.punctuation)}]', '', text)\n",
        "    # Tokenize and remove stop words\n",
        "    stop_words = set(stopwords.words('english'))\n",
        "    words = word_tokenize(text)\n",
        "    words = [word for word in words if word.lower() not in stop_words]\n",
        "    # Lemmatize\n",
        "    lemmatizer = WordNetLemmatizer()\n",
        "    words = [lemmatizer.lemmatize(word) for word in words]\n",
        "    return ' '.join(words)"
      ],
      "metadata": {
        "trusted": true,
        "execution": {
          "iopub.status.busy": "2025-01-04T15:06:11.723234Z",
          "iopub.execute_input": "2025-01-04T15:06:11.723544Z",
          "iopub.status.idle": "2025-01-04T15:06:11.728253Z",
          "shell.execute_reply.started": "2025-01-04T15:06:11.723520Z",
          "shell.execute_reply": "2025-01-04T15:06:11.727385Z"
        },
        "id": "DLoK68oeCidO"
      },
      "outputs": [],
      "execution_count": null
    },
    {
      "cell_type": "code",
      "source": [
        "# Function to read files from folder and create DataFrame\n",
        "def create_dataframe(folder, label):\n",
        "    file_list = os.listdir(folder)\n",
        "    texts = []\n",
        "    labels = []\n",
        "    for file in file_list:\n",
        "        with open(os.path.join(folder, file), 'r', encoding='utf-8') as f:\n",
        "            text = f.read()\n",
        "            texts.append(preprocess_text(text))\n",
        "            labels.append(label)\n",
        "    df = pd.DataFrame({'text': texts, 'label': labels})\n",
        "    return df"
      ],
      "metadata": {
        "trusted": true,
        "execution": {
          "iopub.status.busy": "2025-01-04T15:06:11.729018Z",
          "iopub.execute_input": "2025-01-04T15:06:11.729297Z",
          "iopub.status.idle": "2025-01-04T15:06:11.741910Z",
          "shell.execute_reply.started": "2025-01-04T15:06:11.729270Z",
          "shell.execute_reply": "2025-01-04T15:06:11.741262Z"
        },
        "id": "9C1tQbefCidP"
      },
      "outputs": [],
      "execution_count": null
    },
    {
      "cell_type": "code",
      "source": [
        "# # Paths to positive and negative folders for training\n",
        "# positive_folder_train = 'path/to/positive/folder/train'\n",
        "# negative_folder_train = 'path/to/negative/folder/train'\n",
        "\n",
        "# # Paths to positive and negative folders for testing\n",
        "# positive_folder_test = 'path/to/positive/folder/test'\n",
        "# negative_folder_test = 'path/to/negative/folder/test'\n",
        "# Paths to positive and negative folders\n",
        "positive_folder_train = '/kaggle/input/imdb-nlp/aclImdb/train/pos'\n",
        "\n",
        "negative_folder_train = '/kaggle/input/imdb-nlp/aclImdb/train/neg'\n",
        "\n",
        "\n",
        "# Paths to positive and negative folders\n",
        "positive_folder_test = '/kaggle/input/imdb-nlp/aclImdb/test/pos'\n",
        "\n",
        "negative_folder_test = '/kaggle/input/imdb-nlp/aclImdb/test/neg'"
      ],
      "metadata": {
        "trusted": true,
        "execution": {
          "iopub.status.busy": "2025-01-04T15:06:11.742553Z",
          "iopub.execute_input": "2025-01-04T15:06:11.742786Z",
          "iopub.status.idle": "2025-01-04T15:06:11.757915Z",
          "shell.execute_reply.started": "2025-01-04T15:06:11.742746Z",
          "shell.execute_reply": "2025-01-04T15:06:11.757078Z"
        },
        "id": "XLUnO7llCidQ"
      },
      "outputs": [],
      "execution_count": null
    },
    {
      "cell_type": "code",
      "source": [
        "# Create DataFrames for positive and negative reviews\n",
        "df_train_positive = create_dataframe(positive_folder_train, 1)  # Label 1 for positive\n",
        "df_train_negative = create_dataframe(negative_folder_train, 0)  # Label 0 for negative\n",
        "df_test_positive = create_dataframe(positive_folder_test, 1)  # Label 1 for positive\n",
        "df_test_negative = create_dataframe(negative_folder_test, 0)  # Label 0 for negative"
      ],
      "metadata": {
        "trusted": true,
        "execution": {
          "iopub.status.busy": "2025-01-04T15:06:11.758607Z",
          "iopub.execute_input": "2025-01-04T15:06:11.758826Z",
          "iopub.status.idle": "2025-01-04T15:10:19.785719Z",
          "shell.execute_reply.started": "2025-01-04T15:06:11.758801Z",
          "shell.execute_reply": "2025-01-04T15:10:19.784858Z"
        },
        "id": "raZ0Pq7FCidR"
      },
      "outputs": [],
      "execution_count": null
    },
    {
      "cell_type": "code",
      "source": [
        "# Combine positive and negative DataFrames for train and test\n",
        "df_train = pd.concat([df_train_positive, df_train_negative], ignore_index=True)\n",
        "df_test = pd.concat([df_test_positive, df_test_negative], ignore_index=True)\n",
        "\n",
        "# Combine train and test data, then split into training and validation sets\n",
        "df_combined = pd.concat([df_train, df_test], ignore_index=True)\n",
        "df_combined = df_combined.sample(frac=1).reset_index(drop=True)  # Shuffle the combined data"
      ],
      "metadata": {
        "trusted": true,
        "execution": {
          "iopub.status.busy": "2025-01-04T15:10:35.430579Z",
          "iopub.execute_input": "2025-01-04T15:10:35.430919Z",
          "iopub.status.idle": "2025-01-04T15:10:35.452669Z",
          "shell.execute_reply.started": "2025-01-04T15:10:35.430893Z",
          "shell.execute_reply": "2025-01-04T15:10:35.451839Z"
        },
        "id": "hJe1S5DUCidS"
      },
      "outputs": [],
      "execution_count": null
    },
    {
      "cell_type": "code",
      "source": [
        "df_combined.to_csv('imdb.csv', index=False)"
      ],
      "metadata": {
        "trusted": true,
        "execution": {
          "iopub.status.busy": "2025-01-04T15:10:44.359854Z",
          "iopub.execute_input": "2025-01-04T15:10:44.360129Z",
          "iopub.status.idle": "2025-01-04T15:10:45.144374Z",
          "shell.execute_reply.started": "2025-01-04T15:10:44.360109Z",
          "shell.execute_reply": "2025-01-04T15:10:45.143687Z"
        },
        "id": "3dkwrJQzCidS"
      },
      "outputs": [],
      "execution_count": null
    },
    {
      "cell_type": "markdown",
      "source": [
        "# Tokenization"
      ],
      "metadata": {
        "id": "UBou69VbCw5W"
      }
    },
    {
      "cell_type": "code",
      "source": [
        "# Tokenize text\n",
        "max_words = 10000  # Maximum number of words to keep\n",
        "max_len = 100      # Maximum length of each sequence\n",
        "tokenizer = Tokenizer(num_words=max_words)\n",
        "tokenizer.fit_on_texts(df_combined['text'])\n",
        "X = tokenizer.texts_to_sequences(df_combined['text'])\n",
        "X = pad_sequences(X, maxlen=max_len)\n",
        "\n",
        "# Prepare target\n",
        "y = np.array(df_combined['label'])"
      ],
      "metadata": {
        "trusted": true,
        "execution": {
          "iopub.status.busy": "2025-01-04T15:10:50.921523Z",
          "iopub.execute_input": "2025-01-04T15:10:50.921822Z",
          "iopub.status.idle": "2025-01-04T15:10:58.804044Z",
          "shell.execute_reply.started": "2025-01-04T15:10:50.921799Z",
          "shell.execute_reply": "2025-01-04T15:10:58.803323Z"
        },
        "id": "f5GbC2NlCidT"
      },
      "outputs": [],
      "execution_count": null
    },
    {
      "cell_type": "markdown",
      "source": [
        "# Splitting data"
      ],
      "metadata": {
        "id": "kW8BsgXKCzNG"
      }
    },
    {
      "cell_type": "code",
      "source": [
        "# Splitting data into train and validation sets (80% train, 20% validation)\n",
        "X_train, X_val, y_train, y_val = train_test_split(X, y, test_size=0.2, random_state=42)"
      ],
      "metadata": {
        "trusted": true,
        "execution": {
          "iopub.status.busy": "2025-01-04T15:11:40.653094Z",
          "iopub.execute_input": "2025-01-04T15:11:40.653421Z",
          "iopub.status.idle": "2025-01-04T15:11:40.669222Z",
          "shell.execute_reply.started": "2025-01-04T15:11:40.653393Z",
          "shell.execute_reply": "2025-01-04T15:11:40.668337Z"
        },
        "id": "_NvIJX_ICidU"
      },
      "outputs": [],
      "execution_count": null
    },
    {
      "cell_type": "markdown",
      "source": [
        "# Build LSTM model\n",
        "\n",
        "\n"
      ],
      "metadata": {
        "id": "cOoSGMjeC1uG"
      }
    },
    {
      "cell_type": "code",
      "source": [
        "# # Build LSTM model\n",
        "# lstm_model = Sequential([\n",
        "#     Embedding(input_dim=max_words, output_dim=128, input_length=max_len),\n",
        "#     LSTM(64, dropout=0.2, recurrent_dropout=0.2),\n",
        "#     Dense(1, activation='sigmoid')\n",
        "# ])\n",
        "# Define the model\n",
        "lstm_model = Sequential()\n",
        "lstm_model.add(Embedding(input_dim=max_words, output_dim=128, input_length=max_len))\n",
        "lstm_model.add(SpatialDropout1D(0.5))\n",
        "lstm_model.add(LSTM(5, return_sequences=False))\n",
        "lstm_model.add(Dropout(0.5))\n",
        "lstm_model.add(BatchNormalization())\n",
        "\n",
        "\n",
        "lstm_model.add(Dense(1, activation='sigmoid'))"
      ],
      "metadata": {
        "trusted": true,
        "execution": {
          "iopub.status.busy": "2025-01-04T15:11:51.327040Z",
          "iopub.execute_input": "2025-01-04T15:11:51.327336Z",
          "iopub.status.idle": "2025-01-04T15:11:51.965390Z",
          "shell.execute_reply.started": "2025-01-04T15:11:51.327313Z",
          "shell.execute_reply": "2025-01-04T15:11:51.964622Z"
        },
        "id": "1zQ_EOdiCidU"
      },
      "outputs": [],
      "execution_count": null
    },
    {
      "cell_type": "code",
      "source": [
        "lstm_model.compile(loss='binary_crossentropy', optimizer='adam', metrics=['accuracy'])"
      ],
      "metadata": {
        "trusted": true,
        "execution": {
          "iopub.status.busy": "2025-01-04T15:11:52.664034Z",
          "iopub.execute_input": "2025-01-04T15:11:52.664309Z",
          "iopub.status.idle": "2025-01-04T15:11:52.681624Z",
          "shell.execute_reply.started": "2025-01-04T15:11:52.664287Z",
          "shell.execute_reply": "2025-01-04T15:11:52.680977Z"
        },
        "id": "XDvUyIJ4CidV"
      },
      "outputs": [],
      "execution_count": null
    },
    {
      "cell_type": "code",
      "source": [
        "# Train LSTM model\n",
        "history =lstm_model.fit(X_train, y_train, validation_data=(X_val, y_val), epochs=10, batch_size=32)"
      ],
      "metadata": {
        "trusted": true,
        "execution": {
          "iopub.status.busy": "2025-01-04T15:11:54.524059Z",
          "iopub.execute_input": "2025-01-04T15:11:54.524337Z",
          "iopub.status.idle": "2025-01-04T15:13:23.033543Z",
          "shell.execute_reply.started": "2025-01-04T15:11:54.524317Z",
          "shell.execute_reply": "2025-01-04T15:13:23.032641Z"
        },
        "id": "VUdjAH_6CidV",
        "outputId": "efab9992-3661-458e-8702-ca7cbe6c5786"
      },
      "outputs": [
        {
          "name": "stdout",
          "text": "Epoch 1/10\n\u001b[1m1250/1250\u001b[0m \u001b[32m━━━━━━━━━━━━━━━━━━━━\u001b[0m\u001b[37m\u001b[0m \u001b[1m14s\u001b[0m 7ms/step - accuracy: 0.7276 - loss: 0.5259 - val_accuracy: 0.8737 - val_loss: 0.3041\nEpoch 2/10\n\u001b[1m1250/1250\u001b[0m \u001b[32m━━━━━━━━━━━━━━━━━━━━\u001b[0m\u001b[37m\u001b[0m \u001b[1m8s\u001b[0m 7ms/step - accuracy: 0.8799 - loss: 0.3107 - val_accuracy: 0.8768 - val_loss: 0.3060\nEpoch 3/10\n\u001b[1m1250/1250\u001b[0m \u001b[32m━━━━━━━━━━━━━━━━━━━━\u001b[0m\u001b[37m\u001b[0m \u001b[1m8s\u001b[0m 7ms/step - accuracy: 0.9022 - loss: 0.2576 - val_accuracy: 0.8711 - val_loss: 0.3206\nEpoch 4/10\n\u001b[1m1250/1250\u001b[0m \u001b[32m━━━━━━━━━━━━━━━━━━━━\u001b[0m\u001b[37m\u001b[0m \u001b[1m8s\u001b[0m 7ms/step - accuracy: 0.9103 - loss: 0.2343 - val_accuracy: 0.8761 - val_loss: 0.3206\nEpoch 5/10\n\u001b[1m1250/1250\u001b[0m \u001b[32m━━━━━━━━━━━━━━━━━━━━\u001b[0m\u001b[37m\u001b[0m \u001b[1m8s\u001b[0m 7ms/step - accuracy: 0.9237 - loss: 0.2044 - val_accuracy: 0.8730 - val_loss: 0.3647\nEpoch 6/10\n\u001b[1m1250/1250\u001b[0m \u001b[32m━━━━━━━━━━━━━━━━━━━━\u001b[0m\u001b[37m\u001b[0m \u001b[1m8s\u001b[0m 7ms/step - accuracy: 0.9247 - loss: 0.1983 - val_accuracy: 0.8692 - val_loss: 0.3897\nEpoch 7/10\n\u001b[1m1250/1250\u001b[0m \u001b[32m━━━━━━━━━━━━━━━━━━━━\u001b[0m\u001b[37m\u001b[0m \u001b[1m8s\u001b[0m 7ms/step - accuracy: 0.9289 - loss: 0.1832 - val_accuracy: 0.8622 - val_loss: 0.4463\nEpoch 8/10\n\u001b[1m1250/1250\u001b[0m \u001b[32m━━━━━━━━━━━━━━━━━━━━\u001b[0m\u001b[37m\u001b[0m \u001b[1m8s\u001b[0m 7ms/step - accuracy: 0.9343 - loss: 0.1692 - val_accuracy: 0.8655 - val_loss: 0.4194\nEpoch 9/10\n\u001b[1m1250/1250\u001b[0m \u001b[32m━━━━━━━━━━━━━━━━━━━━\u001b[0m\u001b[37m\u001b[0m \u001b[1m8s\u001b[0m 7ms/step - accuracy: 0.9384 - loss: 0.1644 - val_accuracy: 0.8627 - val_loss: 0.4920\nEpoch 10/10\n\u001b[1m1250/1250\u001b[0m \u001b[32m━━━━━━━━━━━━━━━━━━━━\u001b[0m\u001b[37m\u001b[0m \u001b[1m8s\u001b[0m 7ms/step - accuracy: 0.9402 - loss: 0.1574 - val_accuracy: 0.8645 - val_loss: 0.4685\n",
          "output_type": "stream"
        }
      ],
      "execution_count": null
    },
    {
      "cell_type": "code",
      "source": [
        "lstm_model.summary()"
      ],
      "metadata": {
        "trusted": true,
        "execution": {
          "iopub.status.busy": "2025-01-04T15:13:23.034965Z",
          "iopub.execute_input": "2025-01-04T15:13:23.035199Z",
          "iopub.status.idle": "2025-01-04T15:13:23.053206Z",
          "shell.execute_reply.started": "2025-01-04T15:13:23.035177Z",
          "shell.execute_reply": "2025-01-04T15:13:23.052513Z"
        },
        "id": "lGwUg3T4CidW",
        "outputId": "1e818bc5-67ee-4f8b-d81a-063b3e2f7ecc"
      },
      "outputs": [
        {
          "output_type": "display_data",
          "data": {
            "text/plain": "\u001b[1mModel: \"sequential\"\u001b[0m\n",
            "text/html": "<pre style=\"white-space:pre;overflow-x:auto;line-height:normal;font-family:Menlo,'DejaVu Sans Mono',consolas,'Courier New',monospace\"><span style=\"font-weight: bold\">Model: \"sequential\"</span>\n</pre>\n"
          },
          "metadata": {}
        },
        {
          "output_type": "display_data",
          "data": {
            "text/plain": "┏━━━━━━━━━━━━━━━━━━━━━━━━━━━━━━━━━━━━━━┳━━━━━━━━━━━━━━━━━━━━━━━━━━━━━┳━━━━━━━━━━━━━━━━━┓\n┃\u001b[1m \u001b[0m\u001b[1mLayer (type)                        \u001b[0m\u001b[1m \u001b[0m┃\u001b[1m \u001b[0m\u001b[1mOutput Shape               \u001b[0m\u001b[1m \u001b[0m┃\u001b[1m \u001b[0m\u001b[1m        Param #\u001b[0m\u001b[1m \u001b[0m┃\n┡━━━━━━━━━━━━━━━━━━━━━━━━━━━━━━━━━━━━━━╇━━━━━━━━━━━━━━━━━━━━━━━━━━━━━╇━━━━━━━━━━━━━━━━━┩\n│ embedding (\u001b[38;5;33mEmbedding\u001b[0m)                │ (\u001b[38;5;34m32\u001b[0m, \u001b[38;5;34m100\u001b[0m, \u001b[38;5;34m128\u001b[0m)              │       \u001b[38;5;34m1,280,000\u001b[0m │\n├──────────────────────────────────────┼─────────────────────────────┼─────────────────┤\n│ spatial_dropout1d (\u001b[38;5;33mSpatialDropout1D\u001b[0m) │ (\u001b[38;5;34m32\u001b[0m, \u001b[38;5;34m100\u001b[0m, \u001b[38;5;34m128\u001b[0m)              │               \u001b[38;5;34m0\u001b[0m │\n├──────────────────────────────────────┼─────────────────────────────┼─────────────────┤\n│ lstm (\u001b[38;5;33mLSTM\u001b[0m)                          │ (\u001b[38;5;34m32\u001b[0m, \u001b[38;5;34m5\u001b[0m)                     │           \u001b[38;5;34m2,680\u001b[0m │\n├──────────────────────────────────────┼─────────────────────────────┼─────────────────┤\n│ dropout (\u001b[38;5;33mDropout\u001b[0m)                    │ (\u001b[38;5;34m32\u001b[0m, \u001b[38;5;34m5\u001b[0m)                     │               \u001b[38;5;34m0\u001b[0m │\n├──────────────────────────────────────┼─────────────────────────────┼─────────────────┤\n│ batch_normalization                  │ (\u001b[38;5;34m32\u001b[0m, \u001b[38;5;34m5\u001b[0m)                     │              \u001b[38;5;34m20\u001b[0m │\n│ (\u001b[38;5;33mBatchNormalization\u001b[0m)                 │                             │                 │\n├──────────────────────────────────────┼─────────────────────────────┼─────────────────┤\n│ dense (\u001b[38;5;33mDense\u001b[0m)                        │ (\u001b[38;5;34m32\u001b[0m, \u001b[38;5;34m1\u001b[0m)                     │               \u001b[38;5;34m6\u001b[0m │\n└──────────────────────────────────────┴─────────────────────────────┴─────────────────┘\n",
            "text/html": "<pre style=\"white-space:pre;overflow-x:auto;line-height:normal;font-family:Menlo,'DejaVu Sans Mono',consolas,'Courier New',monospace\">┏━━━━━━━━━━━━━━━━━━━━━━━━━━━━━━━━━━━━━━┳━━━━━━━━━━━━━━━━━━━━━━━━━━━━━┳━━━━━━━━━━━━━━━━━┓\n┃<span style=\"font-weight: bold\"> Layer (type)                         </span>┃<span style=\"font-weight: bold\"> Output Shape                </span>┃<span style=\"font-weight: bold\">         Param # </span>┃\n┡━━━━━━━━━━━━━━━━━━━━━━━━━━━━━━━━━━━━━━╇━━━━━━━━━━━━━━━━━━━━━━━━━━━━━╇━━━━━━━━━━━━━━━━━┩\n│ embedding (<span style=\"color: #0087ff; text-decoration-color: #0087ff\">Embedding</span>)                │ (<span style=\"color: #00af00; text-decoration-color: #00af00\">32</span>, <span style=\"color: #00af00; text-decoration-color: #00af00\">100</span>, <span style=\"color: #00af00; text-decoration-color: #00af00\">128</span>)              │       <span style=\"color: #00af00; text-decoration-color: #00af00\">1,280,000</span> │\n├──────────────────────────────────────┼─────────────────────────────┼─────────────────┤\n│ spatial_dropout1d (<span style=\"color: #0087ff; text-decoration-color: #0087ff\">SpatialDropout1D</span>) │ (<span style=\"color: #00af00; text-decoration-color: #00af00\">32</span>, <span style=\"color: #00af00; text-decoration-color: #00af00\">100</span>, <span style=\"color: #00af00; text-decoration-color: #00af00\">128</span>)              │               <span style=\"color: #00af00; text-decoration-color: #00af00\">0</span> │\n├──────────────────────────────────────┼─────────────────────────────┼─────────────────┤\n│ lstm (<span style=\"color: #0087ff; text-decoration-color: #0087ff\">LSTM</span>)                          │ (<span style=\"color: #00af00; text-decoration-color: #00af00\">32</span>, <span style=\"color: #00af00; text-decoration-color: #00af00\">5</span>)                     │           <span style=\"color: #00af00; text-decoration-color: #00af00\">2,680</span> │\n├──────────────────────────────────────┼─────────────────────────────┼─────────────────┤\n│ dropout (<span style=\"color: #0087ff; text-decoration-color: #0087ff\">Dropout</span>)                    │ (<span style=\"color: #00af00; text-decoration-color: #00af00\">32</span>, <span style=\"color: #00af00; text-decoration-color: #00af00\">5</span>)                     │               <span style=\"color: #00af00; text-decoration-color: #00af00\">0</span> │\n├──────────────────────────────────────┼─────────────────────────────┼─────────────────┤\n│ batch_normalization                  │ (<span style=\"color: #00af00; text-decoration-color: #00af00\">32</span>, <span style=\"color: #00af00; text-decoration-color: #00af00\">5</span>)                     │              <span style=\"color: #00af00; text-decoration-color: #00af00\">20</span> │\n│ (<span style=\"color: #0087ff; text-decoration-color: #0087ff\">BatchNormalization</span>)                 │                             │                 │\n├──────────────────────────────────────┼─────────────────────────────┼─────────────────┤\n│ dense (<span style=\"color: #0087ff; text-decoration-color: #0087ff\">Dense</span>)                        │ (<span style=\"color: #00af00; text-decoration-color: #00af00\">32</span>, <span style=\"color: #00af00; text-decoration-color: #00af00\">1</span>)                     │               <span style=\"color: #00af00; text-decoration-color: #00af00\">6</span> │\n└──────────────────────────────────────┴─────────────────────────────┴─────────────────┘\n</pre>\n"
          },
          "metadata": {}
        },
        {
          "output_type": "display_data",
          "data": {
            "text/plain": "\u001b[1m Total params: \u001b[0m\u001b[38;5;34m3,848,100\u001b[0m (14.68 MB)\n",
            "text/html": "<pre style=\"white-space:pre;overflow-x:auto;line-height:normal;font-family:Menlo,'DejaVu Sans Mono',consolas,'Courier New',monospace\"><span style=\"font-weight: bold\"> Total params: </span><span style=\"color: #00af00; text-decoration-color: #00af00\">3,848,100</span> (14.68 MB)\n</pre>\n"
          },
          "metadata": {}
        },
        {
          "output_type": "display_data",
          "data": {
            "text/plain": "\u001b[1m Trainable params: \u001b[0m\u001b[38;5;34m1,282,696\u001b[0m (4.89 MB)\n",
            "text/html": "<pre style=\"white-space:pre;overflow-x:auto;line-height:normal;font-family:Menlo,'DejaVu Sans Mono',consolas,'Courier New',monospace\"><span style=\"font-weight: bold\"> Trainable params: </span><span style=\"color: #00af00; text-decoration-color: #00af00\">1,282,696</span> (4.89 MB)\n</pre>\n"
          },
          "metadata": {}
        },
        {
          "output_type": "display_data",
          "data": {
            "text/plain": "\u001b[1m Non-trainable params: \u001b[0m\u001b[38;5;34m10\u001b[0m (40.00 B)\n",
            "text/html": "<pre style=\"white-space:pre;overflow-x:auto;line-height:normal;font-family:Menlo,'DejaVu Sans Mono',consolas,'Courier New',monospace\"><span style=\"font-weight: bold\"> Non-trainable params: </span><span style=\"color: #00af00; text-decoration-color: #00af00\">10</span> (40.00 B)\n</pre>\n"
          },
          "metadata": {}
        },
        {
          "output_type": "display_data",
          "data": {
            "text/plain": "\u001b[1m Optimizer params: \u001b[0m\u001b[38;5;34m2,565,394\u001b[0m (9.79 MB)\n",
            "text/html": "<pre style=\"white-space:pre;overflow-x:auto;line-height:normal;font-family:Menlo,'DejaVu Sans Mono',consolas,'Courier New',monospace\"><span style=\"font-weight: bold\"> Optimizer params: </span><span style=\"color: #00af00; text-decoration-color: #00af00\">2,565,394</span> (9.79 MB)\n</pre>\n"
          },
          "metadata": {}
        }
      ],
      "execution_count": null
    },
    {
      "cell_type": "markdown",
      "source": [
        "# Plot training & validation accuracy values"
      ],
      "metadata": {
        "id": "uoO3MsB0C8rO"
      }
    },
    {
      "cell_type": "code",
      "source": [
        "# Plot training & validation accuracy values\n",
        "plt.plot(history.history['accuracy'])\n",
        "plt.plot(history.history['val_accuracy'])\n",
        "plt.title('Model accuracy')\n",
        "plt.ylabel('Accuracy')\n",
        "plt.xlabel('Epoch')\n",
        "plt.legend(['Train', 'Validation'], loc='upper left')\n",
        "plt.show()"
      ],
      "metadata": {
        "trusted": true,
        "execution": {
          "iopub.status.busy": "2025-01-04T15:13:23.054750Z",
          "iopub.execute_input": "2025-01-04T15:13:23.054992Z",
          "iopub.status.idle": "2025-01-04T15:13:23.325645Z",
          "shell.execute_reply.started": "2025-01-04T15:13:23.054973Z",
          "shell.execute_reply": "2025-01-04T15:13:23.324844Z"
        },
        "id": "S4Iy3lz1CidW",
        "outputId": "817b3a49-1d51-40c2-daf2-454edea3c02e"
      },
      "outputs": [
        {
          "output_type": "display_data",
          "data": {
            "text/plain": "<Figure size 640x480 with 1 Axes>",
            "image/png": "[encoded data removed]"
          },
          "metadata": {}
        }
      ],
      "execution_count": null
    },
    {
      "cell_type": "code",
      "source": [
        "# Evaluate LSTM model\n",
        "y_pred_lstm = (lstm_model.predict(X_val) > 0.5).astype('int32')\n",
        "print(\"\\nLSTM Model Evaluation:\")\n",
        "print(\"Accuracy:\", accuracy_score(y_val, y_pred_lstm))\n",
        "print(\"Classification Report:\")\n",
        "print(classification_report(y_val, y_pred_lstm))"
      ],
      "metadata": {
        "trusted": true,
        "execution": {
          "iopub.status.busy": "2025-01-04T15:13:23.326949Z",
          "iopub.execute_input": "2025-01-04T15:13:23.327226Z",
          "iopub.status.idle": "2025-01-04T15:13:24.479028Z",
          "shell.execute_reply.started": "2025-01-04T15:13:23.327204Z",
          "shell.execute_reply": "2025-01-04T15:13:24.478296Z"
        },
        "id": "V-c50KFbCidX",
        "outputId": "9b411d33-63e8-4905-d324-d3958b8c6603"
      },
      "outputs": [
        {
          "name": "stdout",
          "text": "\u001b[1m313/313\u001b[0m \u001b[32m━━━━━━━━━━━━━━━━━━━━\u001b[0m\u001b[37m\u001b[0m \u001b[1m1s\u001b[0m 3ms/step\n\nLSTM Model Evaluation:\nAccuracy: 0.8645\nClassification Report:\n              precision    recall  f1-score   support\n\n           0       0.88      0.84      0.86      4978\n           1       0.85      0.89      0.87      5022\n\n    accuracy                           0.86     10000\n   macro avg       0.87      0.86      0.86     10000\nweighted avg       0.87      0.86      0.86     10000\n\n",
          "output_type": "stream"
        }
      ],
      "execution_count": null
    },
    {
      "cell_type": "markdown",
      "source": [
        "# Build LSTM model\n",
        "\n",
        "\n"
      ],
      "metadata": {
        "id": "BiOKct6fDLOf"
      }
    },
    {
      "cell_type": "code",
      "source": [
        "# Build GRU model\n",
        "gru_model = Sequential([\n",
        "    Embedding(input_dim=max_words, output_dim=128, input_length=max_len),\n",
        "    GRU(64, dropout=0.2, recurrent_dropout=0.2),\n",
        "    Dense(1, activation='sigmoid')\n",
        "])\n",
        "\n",
        "gru_model.compile(loss='binary_crossentropy', optimizer='adam', metrics=['accuracy'])"
      ],
      "metadata": {
        "trusted": true,
        "execution": {
          "iopub.status.busy": "2025-01-04T15:13:24.479694Z",
          "iopub.execute_input": "2025-01-04T15:13:24.479925Z",
          "iopub.status.idle": "2025-01-04T15:13:24.492200Z",
          "shell.execute_reply.started": "2025-01-04T15:13:24.479904Z",
          "shell.execute_reply": "2025-01-04T15:13:24.491561Z"
        },
        "id": "Ibf0ZU1yCidX"
      },
      "outputs": [],
      "execution_count": null
    },
    {
      "cell_type": "code",
      "source": [
        "# Define the model\n",
        "GRU_model = Sequential()\n",
        "GRU_model.add(Embedding(input_dim=max_words, output_dim=128, input_length=max_len))\n",
        "GRU_model.add(SpatialDropout1D(0.5))\n",
        "GRU_model.add(GRU(5, return_sequences=False))\n",
        "GRU_model.add(Dropout(0.5))\n",
        "GRU_model.add(BatchNormalization())\n",
        "GRU_model.add(Dense(1, activation='sigmoid'))"
      ],
      "metadata": {
        "trusted": true,
        "execution": {
          "iopub.status.busy": "2025-01-04T15:13:24.492924Z",
          "iopub.execute_input": "2025-01-04T15:13:24.493130Z",
          "iopub.status.idle": "2025-01-04T15:13:24.517973Z",
          "shell.execute_reply.started": "2025-01-04T15:13:24.493112Z",
          "shell.execute_reply": "2025-01-04T15:13:24.517151Z"
        },
        "id": "HKxCMf02CidY"
      },
      "outputs": [],
      "execution_count": null
    },
    {
      "cell_type": "code",
      "source": [
        "GRU_model.compile(loss='binary_crossentropy', optimizer='adam', metrics=['accuracy'])"
      ],
      "metadata": {
        "trusted": true,
        "execution": {
          "iopub.status.busy": "2025-01-04T15:13:24.518586Z",
          "iopub.execute_input": "2025-01-04T15:13:24.518761Z",
          "iopub.status.idle": "2025-01-04T15:13:24.525372Z",
          "shell.execute_reply.started": "2025-01-04T15:13:24.518746Z",
          "shell.execute_reply": "2025-01-04T15:13:24.524732Z"
        },
        "id": "IG87pdMyCida"
      },
      "outputs": [],
      "execution_count": null
    },
    {
      "cell_type": "code",
      "source": [
        "# # Train GRU model\n",
        "gru_history=GRU_model.fit(X_train, y_train, validation_data=(X_val, y_val), epochs=10,batch_size=32)"
      ],
      "metadata": {
        "trusted": true,
        "execution": {
          "iopub.status.busy": "2025-01-04T15:13:24.527310Z",
          "iopub.execute_input": "2025-01-04T15:13:24.527522Z",
          "iopub.status.idle": "2025-01-04T15:14:49.479540Z",
          "shell.execute_reply.started": "2025-01-04T15:13:24.527504Z",
          "shell.execute_reply": "2025-01-04T15:14:49.478656Z"
        },
        "id": "V_q_fqJ6Cidc",
        "outputId": "53aa03f3-e6e1-46f0-c7f2-c84ac2f37e38"
      },
      "outputs": [
        {
          "name": "stdout",
          "text": "Epoch 1/10\n\u001b[1m1250/1250\u001b[0m \u001b[32m━━━━━━━━━━━━━━━━━━━━\u001b[0m\u001b[37m\u001b[0m \u001b[1m10s\u001b[0m 7ms/step - accuracy: 0.6981 - loss: 0.5709 - val_accuracy: 0.8670 - val_loss: 0.3171\nEpoch 2/10\n\u001b[1m1250/1250\u001b[0m \u001b[32m━━━━━━━━━━━━━━━━━━━━\u001b[0m\u001b[37m\u001b[0m \u001b[1m8s\u001b[0m 7ms/step - accuracy: 0.8815 - loss: 0.3112 - val_accuracy: 0.8808 - val_loss: 0.2887\nEpoch 3/10\n\u001b[1m1250/1250\u001b[0m \u001b[32m━━━━━━━━━━━━━━━━━━━━\u001b[0m\u001b[37m\u001b[0m \u001b[1m8s\u001b[0m 7ms/step - accuracy: 0.8965 - loss: 0.2678 - val_accuracy: 0.8771 - val_loss: 0.3003\nEpoch 4/10\n\u001b[1m1250/1250\u001b[0m \u001b[32m━━━━━━━━━━━━━━━━━━━━\u001b[0m\u001b[37m\u001b[0m \u001b[1m8s\u001b[0m 7ms/step - accuracy: 0.9111 - loss: 0.2396 - val_accuracy: 0.8702 - val_loss: 0.3242\nEpoch 5/10\n\u001b[1m1250/1250\u001b[0m \u001b[32m━━━━━━━━━━━━━━━━━━━━\u001b[0m\u001b[37m\u001b[0m \u001b[1m8s\u001b[0m 7ms/step - accuracy: 0.9178 - loss: 0.2200 - val_accuracy: 0.8708 - val_loss: 0.3519\nEpoch 6/10\n\u001b[1m1250/1250\u001b[0m \u001b[32m━━━━━━━━━━━━━━━━━━━━\u001b[0m\u001b[37m\u001b[0m \u001b[1m8s\u001b[0m 7ms/step - accuracy: 0.9236 - loss: 0.2046 - val_accuracy: 0.8683 - val_loss: 0.3670\nEpoch 7/10\n\u001b[1m1250/1250\u001b[0m \u001b[32m━━━━━━━━━━━━━━━━━━━━\u001b[0m\u001b[37m\u001b[0m \u001b[1m8s\u001b[0m 7ms/step - accuracy: 0.9274 - loss: 0.1898 - val_accuracy: 0.8720 - val_loss: 0.3754\nEpoch 8/10\n\u001b[1m1250/1250\u001b[0m \u001b[32m━━━━━━━━━━━━━━━━━━━━\u001b[0m\u001b[37m\u001b[0m \u001b[1m8s\u001b[0m 7ms/step - accuracy: 0.9299 - loss: 0.1822 - val_accuracy: 0.8663 - val_loss: 0.4074\nEpoch 9/10\n\u001b[1m1250/1250\u001b[0m \u001b[32m━━━━━━━━━━━━━━━━━━━━\u001b[0m\u001b[37m\u001b[0m \u001b[1m8s\u001b[0m 7ms/step - accuracy: 0.9349 - loss: 0.1684 - val_accuracy: 0.8661 - val_loss: 0.4148\nEpoch 10/10\n\u001b[1m1250/1250\u001b[0m \u001b[32m━━━━━━━━━━━━━━━━━━━━\u001b[0m\u001b[37m\u001b[0m \u001b[1m8s\u001b[0m 7ms/step - accuracy: 0.9411 - loss: 0.1600 - val_accuracy: 0.8659 - val_loss: 0.4419\n",
          "output_type": "stream"
        }
      ],
      "execution_count": null
    },
    {
      "cell_type": "code",
      "source": [
        "GRU_model.summary()"
      ],
      "metadata": {
        "trusted": true,
        "execution": {
          "iopub.status.busy": "2025-01-04T15:14:49.481153Z",
          "iopub.execute_input": "2025-01-04T15:14:49.481420Z",
          "iopub.status.idle": "2025-01-04T15:14:49.499822Z",
          "shell.execute_reply.started": "2025-01-04T15:14:49.481398Z",
          "shell.execute_reply": "2025-01-04T15:14:49.499071Z"
        },
        "id": "Lr2obmGeCide",
        "outputId": "970806a6-64fb-4a82-f835-dc15d43a4988"
      },
      "outputs": [
        {
          "output_type": "display_data",
          "data": {
            "text/plain": "\u001b[1mModel: \"sequential_2\"\u001b[0m\n",
            "text/html": "<pre style=\"white-space:pre;overflow-x:auto;line-height:normal;font-family:Menlo,'DejaVu Sans Mono',consolas,'Courier New',monospace\"><span style=\"font-weight: bold\">Model: \"sequential_2\"</span>\n</pre>\n"
          },
          "metadata": {}
        },
        {
          "output_type": "display_data",
          "data": {
            "text/plain": "┏━━━━━━━━━━━━━━━━━━━━━━━━━━━━━━━━━━━━━━┳━━━━━━━━━━━━━━━━━━━━━━━━━━━━━┳━━━━━━━━━━━━━━━━━┓\n┃\u001b[1m \u001b[0m\u001b[1mLayer (type)                        \u001b[0m\u001b[1m \u001b[0m┃\u001b[1m \u001b[0m\u001b[1mOutput Shape               \u001b[0m\u001b[1m \u001b[0m┃\u001b[1m \u001b[0m\u001b[1m        Param #\u001b[0m\u001b[1m \u001b[0m┃\n┡━━━━━━━━━━━━━━━━━━━━━━━━━━━━━━━━━━━━━━╇━━━━━━━━━━━━━━━━━━━━━━━━━━━━━╇━━━━━━━━━━━━━━━━━┩\n│ embedding_2 (\u001b[38;5;33mEmbedding\u001b[0m)              │ (\u001b[38;5;34m32\u001b[0m, \u001b[38;5;34m100\u001b[0m, \u001b[38;5;34m128\u001b[0m)              │       \u001b[38;5;34m1,280,000\u001b[0m │\n├──────────────────────────────────────┼─────────────────────────────┼─────────────────┤\n│ spatial_dropout1d_1                  │ (\u001b[38;5;34m32\u001b[0m, \u001b[38;5;34m100\u001b[0m, \u001b[38;5;34m128\u001b[0m)              │               \u001b[38;5;34m0\u001b[0m │\n│ (\u001b[38;5;33mSpatialDropout1D\u001b[0m)                   │                             │                 │\n├──────────────────────────────────────┼─────────────────────────────┼─────────────────┤\n│ gru_1 (\u001b[38;5;33mGRU\u001b[0m)                          │ (\u001b[38;5;34m32\u001b[0m, \u001b[38;5;34m5\u001b[0m)                     │           \u001b[38;5;34m2,025\u001b[0m │\n├──────────────────────────────────────┼─────────────────────────────┼─────────────────┤\n│ dropout_1 (\u001b[38;5;33mDropout\u001b[0m)                  │ (\u001b[38;5;34m32\u001b[0m, \u001b[38;5;34m5\u001b[0m)                     │               \u001b[38;5;34m0\u001b[0m │\n├──────────────────────────────────────┼─────────────────────────────┼─────────────────┤\n│ batch_normalization_1                │ (\u001b[38;5;34m32\u001b[0m, \u001b[38;5;34m5\u001b[0m)                     │              \u001b[38;5;34m20\u001b[0m │\n│ (\u001b[38;5;33mBatchNormalization\u001b[0m)                 │                             │                 │\n├──────────────────────────────────────┼─────────────────────────────┼─────────────────┤\n│ dense_2 (\u001b[38;5;33mDense\u001b[0m)                      │ (\u001b[38;5;34m32\u001b[0m, \u001b[38;5;34m1\u001b[0m)                     │               \u001b[38;5;34m6\u001b[0m │\n└──────────────────────────────────────┴─────────────────────────────┴─────────────────┘\n",
            "text/html": "<pre style=\"white-space:pre;overflow-x:auto;line-height:normal;font-family:Menlo,'DejaVu Sans Mono',consolas,'Courier New',monospace\">┏━━━━━━━━━━━━━━━━━━━━━━━━━━━━━━━━━━━━━━┳━━━━━━━━━━━━━━━━━━━━━━━━━━━━━┳━━━━━━━━━━━━━━━━━┓\n┃<span style=\"font-weight: bold\"> Layer (type)                         </span>┃<span style=\"font-weight: bold\"> Output Shape                </span>┃<span style=\"font-weight: bold\">         Param # </span>┃\n┡━━━━━━━━━━━━━━━━━━━━━━━━━━━━━━━━━━━━━━╇━━━━━━━━━━━━━━━━━━━━━━━━━━━━━╇━━━━━━━━━━━━━━━━━┩\n│ embedding_2 (<span style=\"color: #0087ff; text-decoration-color: #0087ff\">Embedding</span>)              │ (<span style=\"color: #00af00; text-decoration-color: #00af00\">32</span>, <span style=\"color: #00af00; text-decoration-color: #00af00\">100</span>, <span style=\"color: #00af00; text-decoration-color: #00af00\">128</span>)              │       <span style=\"color: #00af00; text-decoration-color: #00af00\">1,280,000</span> │\n├──────────────────────────────────────┼─────────────────────────────┼─────────────────┤\n│ spatial_dropout1d_1                  │ (<span style=\"color: #00af00; text-decoration-color: #00af00\">32</span>, <span style=\"color: #00af00; text-decoration-color: #00af00\">100</span>, <span style=\"color: #00af00; text-decoration-color: #00af00\">128</span>)              │               <span style=\"color: #00af00; text-decoration-color: #00af00\">0</span> │\n│ (<span style=\"color: #0087ff; text-decoration-color: #0087ff\">SpatialDropout1D</span>)                   │                             │                 │\n├──────────────────────────────────────┼─────────────────────────────┼─────────────────┤\n│ gru_1 (<span style=\"color: #0087ff; text-decoration-color: #0087ff\">GRU</span>)                          │ (<span style=\"color: #00af00; text-decoration-color: #00af00\">32</span>, <span style=\"color: #00af00; text-decoration-color: #00af00\">5</span>)                     │           <span style=\"color: #00af00; text-decoration-color: #00af00\">2,025</span> │\n├──────────────────────────────────────┼─────────────────────────────┼─────────────────┤\n│ dropout_1 (<span style=\"color: #0087ff; text-decoration-color: #0087ff\">Dropout</span>)                  │ (<span style=\"color: #00af00; text-decoration-color: #00af00\">32</span>, <span style=\"color: #00af00; text-decoration-color: #00af00\">5</span>)                     │               <span style=\"color: #00af00; text-decoration-color: #00af00\">0</span> │\n├──────────────────────────────────────┼─────────────────────────────┼─────────────────┤\n│ batch_normalization_1                │ (<span style=\"color: #00af00; text-decoration-color: #00af00\">32</span>, <span style=\"color: #00af00; text-decoration-color: #00af00\">5</span>)                     │              <span style=\"color: #00af00; text-decoration-color: #00af00\">20</span> │\n│ (<span style=\"color: #0087ff; text-decoration-color: #0087ff\">BatchNormalization</span>)                 │                             │                 │\n├──────────────────────────────────────┼─────────────────────────────┼─────────────────┤\n│ dense_2 (<span style=\"color: #0087ff; text-decoration-color: #0087ff\">Dense</span>)                      │ (<span style=\"color: #00af00; text-decoration-color: #00af00\">32</span>, <span style=\"color: #00af00; text-decoration-color: #00af00\">1</span>)                     │               <span style=\"color: #00af00; text-decoration-color: #00af00\">6</span> │\n└──────────────────────────────────────┴─────────────────────────────┴─────────────────┘\n</pre>\n"
          },
          "metadata": {}
        },
        {
          "output_type": "display_data",
          "data": {
            "text/plain": "\u001b[1m Total params: \u001b[0m\u001b[38;5;34m3,846,135\u001b[0m (14.67 MB)\n",
            "text/html": "<pre style=\"white-space:pre;overflow-x:auto;line-height:normal;font-family:Menlo,'DejaVu Sans Mono',consolas,'Courier New',monospace\"><span style=\"font-weight: bold\"> Total params: </span><span style=\"color: #00af00; text-decoration-color: #00af00\">3,846,135</span> (14.67 MB)\n</pre>\n"
          },
          "metadata": {}
        },
        {
          "output_type": "display_data",
          "data": {
            "text/plain": "\u001b[1m Trainable params: \u001b[0m\u001b[38;5;34m1,282,041\u001b[0m (4.89 MB)\n",
            "text/html": "<pre style=\"white-space:pre;overflow-x:auto;line-height:normal;font-family:Menlo,'DejaVu Sans Mono',consolas,'Courier New',monospace\"><span style=\"font-weight: bold\"> Trainable params: </span><span style=\"color: #00af00; text-decoration-color: #00af00\">1,282,041</span> (4.89 MB)\n</pre>\n"
          },
          "metadata": {}
        },
        {
          "output_type": "display_data",
          "data": {
            "text/plain": "\u001b[1m Non-trainable params: \u001b[0m\u001b[38;5;34m10\u001b[0m (40.00 B)\n",
            "text/html": "<pre style=\"white-space:pre;overflow-x:auto;line-height:normal;font-family:Menlo,'DejaVu Sans Mono',consolas,'Courier New',monospace\"><span style=\"font-weight: bold\"> Non-trainable params: </span><span style=\"color: #00af00; text-decoration-color: #00af00\">10</span> (40.00 B)\n</pre>\n"
          },
          "metadata": {}
        },
        {
          "output_type": "display_data",
          "data": {
            "text/plain": "\u001b[1m Optimizer params: \u001b[0m\u001b[38;5;34m2,564,084\u001b[0m (9.78 MB)\n",
            "text/html": "<pre style=\"white-space:pre;overflow-x:auto;line-height:normal;font-family:Menlo,'DejaVu Sans Mono',consolas,'Courier New',monospace\"><span style=\"font-weight: bold\"> Optimizer params: </span><span style=\"color: #00af00; text-decoration-color: #00af00\">2,564,084</span> (9.78 MB)\n</pre>\n"
          },
          "metadata": {}
        }
      ],
      "execution_count": null
    },
    {
      "cell_type": "markdown",
      "source": [
        "# Plot training & validation accuracy values"
      ],
      "metadata": {
        "id": "oEMXxPCtDEqW"
      }
    },
    {
      "cell_type": "code",
      "source": [
        "# Plot training & validation accuracy values\n",
        "plt.plot(gru_history.history['accuracy'])\n",
        "plt.plot(gru_history.history['val_accuracy'])\n",
        "plt.title('Model accuracy')\n",
        "plt.ylabel('Accuracy')\n",
        "plt.xlabel('Epoch')\n",
        "plt.legend(['Train', 'Validation'], loc='upper left')\n",
        "plt.show()"
      ],
      "metadata": {
        "trusted": true,
        "execution": {
          "iopub.status.busy": "2025-01-04T15:14:49.500654Z",
          "iopub.execute_input": "2025-01-04T15:14:49.500970Z",
          "iopub.status.idle": "2025-01-04T15:14:49.746040Z",
          "shell.execute_reply.started": "2025-01-04T15:14:49.500939Z",
          "shell.execute_reply": "2025-01-04T15:14:49.745310Z"
        },
        "id": "qaiy75t4Cidf",
        "outputId": "e78026e2-b22c-4915-fec2-cf959084ecf6"
      },
      "outputs": [
        {
          "output_type": "display_data",
          "data": {
            "text/plain": "<Figure size 640x480 with 1 Axes>",
            "image/png": "[encoded data removed]"
          },
          "metadata": {}
        }
      ],
      "execution_count": null
    },
    {
      "cell_type": "code",
      "source": [
        "# Evaluate GRU model\n",
        "y_pred = (GRU_model.predict(X_val) > 0.5).astype('int32')\n",
        "print(\"\\nGRU Model Evaluation:\")\n",
        "print(\"Accuracy:\", accuracy_score(y_val, y_pred))\n",
        "print(\"Classification Report:\")\n",
        "print(classification_report(y_val, y_pred))"
      ],
      "metadata": {
        "trusted": true,
        "execution": {
          "iopub.status.busy": "2025-01-04T15:14:49.746789Z",
          "iopub.execute_input": "2025-01-04T15:14:49.746998Z",
          "iopub.status.idle": "2025-01-04T15:14:50.812681Z",
          "shell.execute_reply.started": "2025-01-04T15:14:49.746980Z",
          "shell.execute_reply": "2025-01-04T15:14:50.811985Z"
        },
        "id": "Jqo9wICLCidg",
        "outputId": "27e7a78f-afc5-4d5e-a9a6-8268db7a366f"
      },
      "outputs": [
        {
          "name": "stdout",
          "text": "\u001b[1m313/313\u001b[0m \u001b[32m━━━━━━━━━━━━━━━━━━━━\u001b[0m\u001b[37m\u001b[0m \u001b[1m1s\u001b[0m 3ms/step\n\nGRU Model Evaluation:\nAccuracy: 0.8659\nClassification Report:\n              precision    recall  f1-score   support\n\n           0       0.87      0.86      0.86      4978\n           1       0.86      0.88      0.87      5022\n\n    accuracy                           0.87     10000\n   macro avg       0.87      0.87      0.87     10000\nweighted avg       0.87      0.87      0.87     10000\n\n",
          "output_type": "stream"
        }
      ],
      "execution_count": null
    }
  ]
}